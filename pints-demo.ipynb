{
 "cells": [
  {
   "cell_type": "code",
   "execution_count": 3,
   "metadata": {},
   "outputs": [],
   "source": [
    "import os\n",
    "\n",
    "import chi"
   ]
  },
  {
   "cell_type": "code",
   "execution_count": 28,
   "metadata": {},
   "outputs": [
    {
     "name": "stderr",
     "output_type": "stream",
     "text": [
      "INFO:root:running build_ext\n",
      "INFO:root:building 'myokit_sim_16_8813736078427877057' extension\n",
      "INFO:root:creating build\n",
      "INFO:root:creating build/temp.macosx-10.9-universal2-cpython-39\n",
      "INFO:root:creating build/temp.macosx-10.9-universal2-cpython-39/var\n",
      "INFO:root:creating build/temp.macosx-10.9-universal2-cpython-39/var/folders\n",
      "INFO:root:creating build/temp.macosx-10.9-universal2-cpython-39/var/folders/v4\n",
      "INFO:root:creating build/temp.macosx-10.9-universal2-cpython-39/var/folders/v4/97p50d2s59d8tf5xm5h27fjh0000gp\n",
      "INFO:root:creating build/temp.macosx-10.9-universal2-cpython-39/var/folders/v4/97p50d2s59d8tf5xm5h27fjh0000gp/T\n",
      "INFO:root:creating build/temp.macosx-10.9-universal2-cpython-39/var/folders/v4/97p50d2s59d8tf5xm5h27fjh0000gp/T/tmp6m7dpbcvmyokit\n",
      "INFO:root:clang -Wno-unused-result -Wsign-compare -Wunreachable-code -fno-common -dynamic -DNDEBUG -g -fwrapv -O3 -Wall -iwithsysroot/System/Library/Frameworks/System.framework/PrivateHeaders -iwithsysroot/Applications/Xcode.app/Contents/Developer/Library/Frameworks/Python3.framework/Versions/3.9/Headers -arch arm64 -arch x86_64 -Werror=implicit-function-declaration -Wno-error=unreachable-code -I/usr/local/include -I/opt/local/include -I/opt/homebrew/include -I/Users/DAUGU/Workspace/mipd-warfarin/venv/lib/python3.9/site-packages/myokit/_sim -I/Users/DAUGU/Workspace/mipd-warfarin/venv/lib/python3.9/site-packages/myokit/_sim -I/Users/DAUGU/Workspace/mipd-warfarin/venv/include -I/Library/Developer/CommandLineTools/Library/Frameworks/Python3.framework/Versions/3.9/include/python3.9 -c /var/folders/v4/97p50d2s59d8tf5xm5h27fjh0000gp/T/tmp6m7dpbcvmyokit/source.c -o build/temp.macosx-10.9-universal2-cpython-39/var/folders/v4/97p50d2s59d8tf5xm5h27fjh0000gp/T/tmp6m7dpbcvmyokit/source.o\n",
      "INFO:root:creating build/lib.macosx-10.9-universal2-cpython-39\n",
      "INFO:root:clang -bundle -undefined dynamic_lookup -arch arm64 -arch x86_64 -Wl,-headerpad,0x1000 build/temp.macosx-10.9-universal2-cpython-39/var/folders/v4/97p50d2s59d8tf5xm5h27fjh0000gp/T/tmp6m7dpbcvmyokit/source.o -L/usr/local/lib -L/usr/local/lib64 -L/opt/local/lib -L/opt/local/lib64 -L/opt/homebrew/lib -L/opt/homebrew/lib64 -Wl,-rpath,/usr/local/lib -Wl,-rpath,/usr/local/lib64 -Wl,-rpath,/opt/local/lib -Wl,-rpath,/opt/local/lib64 -Wl,-rpath,/opt/homebrew/lib -Wl,-rpath,/opt/homebrew/lib64 -lsundials_cvodes -lsundials_nvecserial -lm -o build/lib.macosx-10.9-universal2-cpython-39/myokit_sim_16_8813736078427877057.cpython-39-darwin.so\n",
      "INFO:root:copying build/lib.macosx-10.9-universal2-cpython-39/myokit_sim_16_8813736078427877057.cpython-39-darwin.so -> \n",
      "INFO:root:running build_ext\n",
      "INFO:root:building 'myokit_sim_17_8813736078427877057' extension\n",
      "INFO:root:creating build\n",
      "INFO:root:creating build/temp.macosx-10.9-universal2-cpython-39\n",
      "INFO:root:creating build/temp.macosx-10.9-universal2-cpython-39/var\n",
      "INFO:root:creating build/temp.macosx-10.9-universal2-cpython-39/var/folders\n",
      "INFO:root:creating build/temp.macosx-10.9-universal2-cpython-39/var/folders/v4\n",
      "INFO:root:creating build/temp.macosx-10.9-universal2-cpython-39/var/folders/v4/97p50d2s59d8tf5xm5h27fjh0000gp\n",
      "INFO:root:creating build/temp.macosx-10.9-universal2-cpython-39/var/folders/v4/97p50d2s59d8tf5xm5h27fjh0000gp/T\n",
      "INFO:root:creating build/temp.macosx-10.9-universal2-cpython-39/var/folders/v4/97p50d2s59d8tf5xm5h27fjh0000gp/T/tmpd1b0bcylmyokit\n",
      "INFO:root:clang -Wno-unused-result -Wsign-compare -Wunreachable-code -fno-common -dynamic -DNDEBUG -g -fwrapv -O3 -Wall -iwithsysroot/System/Library/Frameworks/System.framework/PrivateHeaders -iwithsysroot/Applications/Xcode.app/Contents/Developer/Library/Frameworks/Python3.framework/Versions/3.9/Headers -arch arm64 -arch x86_64 -Werror=implicit-function-declaration -Wno-error=unreachable-code -I/usr/local/include -I/opt/local/include -I/opt/homebrew/include -I/Users/DAUGU/Workspace/mipd-warfarin/venv/lib/python3.9/site-packages/myokit/_sim -I/Users/DAUGU/Workspace/mipd-warfarin/venv/lib/python3.9/site-packages/myokit/_sim -I/Users/DAUGU/Workspace/mipd-warfarin/venv/include -I/Library/Developer/CommandLineTools/Library/Frameworks/Python3.framework/Versions/3.9/include/python3.9 -c /var/folders/v4/97p50d2s59d8tf5xm5h27fjh0000gp/T/tmpd1b0bcylmyokit/source.c -o build/temp.macosx-10.9-universal2-cpython-39/var/folders/v4/97p50d2s59d8tf5xm5h27fjh0000gp/T/tmpd1b0bcylmyokit/source.o\n",
      "INFO:root:creating build/lib.macosx-10.9-universal2-cpython-39\n",
      "INFO:root:clang -bundle -undefined dynamic_lookup -arch arm64 -arch x86_64 -Wl,-headerpad,0x1000 build/temp.macosx-10.9-universal2-cpython-39/var/folders/v4/97p50d2s59d8tf5xm5h27fjh0000gp/T/tmpd1b0bcylmyokit/source.o -L/usr/local/lib -L/usr/local/lib64 -L/opt/local/lib -L/opt/local/lib64 -L/opt/homebrew/lib -L/opt/homebrew/lib64 -Wl,-rpath,/usr/local/lib -Wl,-rpath,/usr/local/lib64 -Wl,-rpath,/opt/local/lib -Wl,-rpath,/opt/local/lib64 -Wl,-rpath,/opt/homebrew/lib -Wl,-rpath,/opt/homebrew/lib64 -lsundials_cvodes -lsundials_nvecserial -lm -o build/lib.macosx-10.9-universal2-cpython-39/myokit_sim_17_8813736078427877057.cpython-39-darwin.so\n",
      "INFO:root:copying build/lib.macosx-10.9-universal2-cpython-39/myokit_sim_17_8813736078427877057.cpython-39-darwin.so -> \n",
      "/var/folders/v4/97p50d2s59d8tf5xm5h27fjh0000gp/T/ipykernel_16889/631234419.py:11: DeprecationWarning: `alltrue` is deprecated as of NumPy 1.25.0, and will be removed in NumPy 2.0. Please use `all` instead.\n",
      "  mechanistic_model.fix_parameters({\n"
     ]
    }
   ],
   "source": [
    "directory = os.getcwd()\n",
    "# Import model from SBML file (available in supplementary data)\n",
    "mechanistic_model = chi.PKPDModel(directory + '/models/hamberg_warfarin_inr_model.xml')\n",
    "# Set mode of administration according to PK model\n",
    "mechanistic_model.set_administration(\n",
    "compartment='central', amount_var='s_warfarin_amount', direct=False)\n",
    "# Set model outputs\n",
    "mechanistic_model.set_outputs(['myokit.inr'])\n",
    "# Fix model parameters that are not inferred\n",
    "mechanistic_model = chi.ReducedMechanisticModel(mechanistic_model)\n",
    "mechanistic_model.fix_parameters({\n",
    "    'central.s_warfarin_amount': 0.001,\n",
    "    'dose.drug_amount': 0.001,\n",
    "    'dose.absorption_rate': 2,\n",
    "    'myokit.delay_compartment_1_chain_1': 1,\n",
    "    'myokit.delay_compartment_1_chain_2': 1,\n",
    "    'myokit.delay_compartment_2_chain_1': 1,\n",
    "    'myokit.delay_compartment_2_chain_2': 1,\n",
    "    'myokit.relative_change_cf1': 1,\n",
    "    'myokit.relative_change_cf2': 1,\n",
    "    'myokit.gamma': 1.15,\n",
    "    'myokit.maximal_effect': 1,\n",
    "    'myokit.maximal_inr_shift': 20\n",
    "})"
   ]
  },
  {
   "cell_type": "code",
   "execution_count": 29,
   "metadata": {},
   "outputs": [
    {
     "data": {
      "text/plain": [
       "['central.size',\n",
       " 'myokit.baseline_inr',\n",
       " 'myokit.clearance',\n",
       " 'myokit.half_maximal_effect_concentration',\n",
       " 'myokit.transition_rate_chain_1',\n",
       " 'myokit.transition_rate_chain_2']"
      ]
     },
     "execution_count": 29,
     "metadata": {},
     "output_type": "execute_result"
    }
   ],
   "source": [
    "mechanistic_model.parameters()"
   ]
  },
  {
   "cell_type": "code",
   "execution_count": 30,
   "metadata": {},
   "outputs": [
    {
     "name": "stderr",
     "output_type": "stream",
     "text": [
      "INFO:root:running build_ext\n"
     ]
    },
    {
     "name": "stderr",
     "output_type": "stream",
     "text": [
      "INFO:root:building 'myokit_sim_18_8813736078427877057' extension\n",
      "INFO:root:creating build\n",
      "INFO:root:creating build/temp.macosx-10.9-universal2-cpython-39\n",
      "INFO:root:creating build/temp.macosx-10.9-universal2-cpython-39/var\n",
      "INFO:root:creating build/temp.macosx-10.9-universal2-cpython-39/var/folders\n",
      "INFO:root:creating build/temp.macosx-10.9-universal2-cpython-39/var/folders/v4\n",
      "INFO:root:creating build/temp.macosx-10.9-universal2-cpython-39/var/folders/v4/97p50d2s59d8tf5xm5h27fjh0000gp\n",
      "INFO:root:creating build/temp.macosx-10.9-universal2-cpython-39/var/folders/v4/97p50d2s59d8tf5xm5h27fjh0000gp/T\n",
      "INFO:root:creating build/temp.macosx-10.9-universal2-cpython-39/var/folders/v4/97p50d2s59d8tf5xm5h27fjh0000gp/T/tmp0nq3exg2myokit\n",
      "INFO:root:clang -Wno-unused-result -Wsign-compare -Wunreachable-code -fno-common -dynamic -DNDEBUG -g -fwrapv -O3 -Wall -iwithsysroot/System/Library/Frameworks/System.framework/PrivateHeaders -iwithsysroot/Applications/Xcode.app/Contents/Developer/Library/Frameworks/Python3.framework/Versions/3.9/Headers -arch arm64 -arch x86_64 -Werror=implicit-function-declaration -Wno-error=unreachable-code -I/usr/local/include -I/opt/local/include -I/opt/homebrew/include -I/Users/DAUGU/Workspace/mipd-warfarin/venv/lib/python3.9/site-packages/myokit/_sim -I/Users/DAUGU/Workspace/mipd-warfarin/venv/lib/python3.9/site-packages/myokit/_sim -I/Users/DAUGU/Workspace/mipd-warfarin/venv/include -I/Library/Developer/CommandLineTools/Library/Frameworks/Python3.framework/Versions/3.9/include/python3.9 -c /var/folders/v4/97p50d2s59d8tf5xm5h27fjh0000gp/T/tmp0nq3exg2myokit/source.c -o build/temp.macosx-10.9-universal2-cpython-39/var/folders/v4/97p50d2s59d8tf5xm5h27fjh0000gp/T/tmp0nq3exg2myokit/source.o\n",
      "INFO:root:creating build/lib.macosx-10.9-universal2-cpython-39\n",
      "INFO:root:clang -bundle -undefined dynamic_lookup -arch arm64 -arch x86_64 -Wl,-headerpad,0x1000 build/temp.macosx-10.9-universal2-cpython-39/var/folders/v4/97p50d2s59d8tf5xm5h27fjh0000gp/T/tmp0nq3exg2myokit/source.o -L/usr/local/lib -L/usr/local/lib64 -L/opt/local/lib -L/opt/local/lib64 -L/opt/homebrew/lib -L/opt/homebrew/lib64 -Wl,-rpath,/usr/local/lib -Wl,-rpath,/usr/local/lib64 -Wl,-rpath,/opt/local/lib -Wl,-rpath,/opt/local/lib64 -Wl,-rpath,/opt/homebrew/lib -Wl,-rpath,/opt/homebrew/lib64 -lsundials_cvodes -lsundials_nvecserial -lm -o build/lib.macosx-10.9-universal2-cpython-39/myokit_sim_18_8813736078427877057.cpython-39-darwin.so\n",
      "INFO:root:copying build/lib.macosx-10.9-universal2-cpython-39/myokit_sim_18_8813736078427877057.cpython-39-darwin.so -> \n"
     ]
    }
   ],
   "source": [
    "# Define dosing regimen (needs to match the data)\n",
    "mechanistic_model.set_dosing_regimen(dose=5, period=1)\n",
    "# Define measurements (needs to match the data)\n",
    "inr_values = [1, 1.2, 1.64, 1.7, 2]\n",
    "times = [1, 2, 3, 4, 5]\n",
    "# Define error model\n",
    "error_model = chi.LogNormalErrorModel()\n",
    "# Define individual-level likelihood\n",
    "log_likelihood_1 = chi.LogLikelihood(\n",
    "mechanistic_model=mechanistic_model,\n",
    "error_model=error_model,\n",
    "observations=inr_values,\n",
    "times=times)"
   ]
  },
  {
   "cell_type": "code",
   "execution_count": 31,
   "metadata": {},
   "outputs": [
    {
     "data": {
      "text/plain": [
       "['central.size',\n",
       " 'myokit.baseline_inr',\n",
       " 'myokit.clearance',\n",
       " 'myokit.half_maximal_effect_concentration',\n",
       " 'myokit.transition_rate_chain_1',\n",
       " 'myokit.transition_rate_chain_2',\n",
       " 'Sigma log']"
      ]
     },
     "execution_count": 31,
     "metadata": {},
     "output_type": "execute_result"
    }
   ],
   "source": [
    "log_likelihood_1.get_parameter_names()"
   ]
  },
  {
   "cell_type": "code",
   "execution_count": 32,
   "metadata": {},
   "outputs": [
    {
     "name": "stderr",
     "output_type": "stream",
     "text": [
      "INFO:root:running build_ext\n",
      "INFO:root:building 'myokit_sim_19_8813736078427877057' extension\n",
      "INFO:root:creating build\n",
      "INFO:root:creating build/temp.macosx-10.9-universal2-cpython-39\n",
      "INFO:root:creating build/temp.macosx-10.9-universal2-cpython-39/var\n",
      "INFO:root:creating build/temp.macosx-10.9-universal2-cpython-39/var/folders\n",
      "INFO:root:creating build/temp.macosx-10.9-universal2-cpython-39/var/folders/v4\n",
      "INFO:root:creating build/temp.macosx-10.9-universal2-cpython-39/var/folders/v4/97p50d2s59d8tf5xm5h27fjh0000gp\n",
      "INFO:root:creating build/temp.macosx-10.9-universal2-cpython-39/var/folders/v4/97p50d2s59d8tf5xm5h27fjh0000gp/T\n",
      "INFO:root:creating build/temp.macosx-10.9-universal2-cpython-39/var/folders/v4/97p50d2s59d8tf5xm5h27fjh0000gp/T/tmptxeyszunmyokit\n",
      "INFO:root:clang -Wno-unused-result -Wsign-compare -Wunreachable-code -fno-common -dynamic -DNDEBUG -g -fwrapv -O3 -Wall -iwithsysroot/System/Library/Frameworks/System.framework/PrivateHeaders -iwithsysroot/Applications/Xcode.app/Contents/Developer/Library/Frameworks/Python3.framework/Versions/3.9/Headers -arch arm64 -arch x86_64 -Werror=implicit-function-declaration -Wno-error=unreachable-code -I/usr/local/include -I/opt/local/include -I/opt/homebrew/include -I/Users/DAUGU/Workspace/mipd-warfarin/venv/lib/python3.9/site-packages/myokit/_sim -I/Users/DAUGU/Workspace/mipd-warfarin/venv/lib/python3.9/site-packages/myokit/_sim -I/Users/DAUGU/Workspace/mipd-warfarin/venv/include -I/Library/Developer/CommandLineTools/Library/Frameworks/Python3.framework/Versions/3.9/include/python3.9 -c /var/folders/v4/97p50d2s59d8tf5xm5h27fjh0000gp/T/tmptxeyszunmyokit/source.c -o build/temp.macosx-10.9-universal2-cpython-39/var/folders/v4/97p50d2s59d8tf5xm5h27fjh0000gp/T/tmptxeyszunmyokit/source.o\n",
      "INFO:root:creating build/lib.macosx-10.9-universal2-cpython-39\n",
      "INFO:root:clang -bundle -undefined dynamic_lookup -arch arm64 -arch x86_64 -Wl,-headerpad,0x1000 build/temp.macosx-10.9-universal2-cpython-39/var/folders/v4/97p50d2s59d8tf5xm5h27fjh0000gp/T/tmptxeyszunmyokit/source.o -L/usr/local/lib -L/usr/local/lib64 -L/opt/local/lib -L/opt/local/lib64 -L/opt/homebrew/lib -L/opt/homebrew/lib64 -Wl,-rpath,/usr/local/lib -Wl,-rpath,/usr/local/lib64 -Wl,-rpath,/opt/local/lib -Wl,-rpath,/opt/local/lib64 -Wl,-rpath,/opt/homebrew/lib -Wl,-rpath,/opt/homebrew/lib64 -lsundials_cvodes -lsundials_nvecserial -lm -o build/lib.macosx-10.9-universal2-cpython-39/myokit_sim_19_8813736078427877057.cpython-39-darwin.so\n",
      "INFO:root:copying build/lib.macosx-10.9-universal2-cpython-39/myokit_sim_19_8813736078427877057.cpython-39-darwin.so -> \n",
      "INFO:root:running build_ext\n",
      "INFO:root:building 'myokit_sim_20_8813736078427877057' extension\n",
      "INFO:root:creating build\n",
      "INFO:root:creating build/temp.macosx-10.9-universal2-cpython-39\n",
      "INFO:root:creating build/temp.macosx-10.9-universal2-cpython-39/var\n",
      "INFO:root:creating build/temp.macosx-10.9-universal2-cpython-39/var/folders\n",
      "INFO:root:creating build/temp.macosx-10.9-universal2-cpython-39/var/folders/v4\n",
      "INFO:root:creating build/temp.macosx-10.9-universal2-cpython-39/var/folders/v4/97p50d2s59d8tf5xm5h27fjh0000gp\n",
      "INFO:root:creating build/temp.macosx-10.9-universal2-cpython-39/var/folders/v4/97p50d2s59d8tf5xm5h27fjh0000gp/T\n",
      "INFO:root:creating build/temp.macosx-10.9-universal2-cpython-39/var/folders/v4/97p50d2s59d8tf5xm5h27fjh0000gp/T/tmp_fqn9ab4myokit\n",
      "INFO:root:clang -Wno-unused-result -Wsign-compare -Wunreachable-code -fno-common -dynamic -DNDEBUG -g -fwrapv -O3 -Wall -iwithsysroot/System/Library/Frameworks/System.framework/PrivateHeaders -iwithsysroot/Applications/Xcode.app/Contents/Developer/Library/Frameworks/Python3.framework/Versions/3.9/Headers -arch arm64 -arch x86_64 -Werror=implicit-function-declaration -Wno-error=unreachable-code -I/usr/local/include -I/opt/local/include -I/opt/homebrew/include -I/Users/DAUGU/Workspace/mipd-warfarin/venv/lib/python3.9/site-packages/myokit/_sim -I/Users/DAUGU/Workspace/mipd-warfarin/venv/lib/python3.9/site-packages/myokit/_sim -I/Users/DAUGU/Workspace/mipd-warfarin/venv/include -I/Library/Developer/CommandLineTools/Library/Frameworks/Python3.framework/Versions/3.9/include/python3.9 -c /var/folders/v4/97p50d2s59d8tf5xm5h27fjh0000gp/T/tmp_fqn9ab4myokit/source.c -o build/temp.macosx-10.9-universal2-cpython-39/var/folders/v4/97p50d2s59d8tf5xm5h27fjh0000gp/T/tmp_fqn9ab4myokit/source.o\n",
      "INFO:root:creating build/lib.macosx-10.9-universal2-cpython-39\n",
      "INFO:root:clang -bundle -undefined dynamic_lookup -arch arm64 -arch x86_64 -Wl,-headerpad,0x1000 build/temp.macosx-10.9-universal2-cpython-39/var/folders/v4/97p50d2s59d8tf5xm5h27fjh0000gp/T/tmp_fqn9ab4myokit/source.o -L/usr/local/lib -L/usr/local/lib64 -L/opt/local/lib -L/opt/local/lib64 -L/opt/homebrew/lib -L/opt/homebrew/lib64 -Wl,-rpath,/usr/local/lib -Wl,-rpath,/usr/local/lib64 -Wl,-rpath,/opt/local/lib -Wl,-rpath,/opt/local/lib64 -Wl,-rpath,/opt/homebrew/lib -Wl,-rpath,/opt/homebrew/lib64 -lsundials_cvodes -lsundials_nvecserial -lm -o build/lib.macosx-10.9-universal2-cpython-39/myokit_sim_20_8813736078427877057.cpython-39-darwin.so\n",
      "INFO:root:copying build/lib.macosx-10.9-universal2-cpython-39/myokit_sim_20_8813736078427877057.cpython-39-darwin.so -> \n"
     ]
    }
   ],
   "source": [
    "log_likelihood_2 = chi.LogLikelihood(\n",
    "mechanistic_model=mechanistic_model,\n",
    "error_model=error_model,\n",
    "observations=inr_values,\n",
    "times=times)\n",
    "\n",
    "log_likelihood_3 = chi.LogLikelihood(\n",
    "mechanistic_model=mechanistic_model,\n",
    "error_model=error_model,\n",
    "observations=inr_values,\n",
    "times=times)"
   ]
  },
  {
   "cell_type": "code",
   "execution_count": 33,
   "metadata": {},
   "outputs": [],
   "source": [
    "# Define the population model (order needs to match order of psi)\n",
    "population_model = chi.ComposedPopulationModel([\n",
    "    chi.GaussianModel(n_dim=6),\n",
    "    chi.PooledModel(n_dim=1)\n",
    "])\n",
    "\n",
    "# Define hierarchical log-likelihood (only for three individuals)\n",
    "log_likelihood = chi.HierarchicalLogLikelihood(\n",
    "    log_likelihoods=[\n",
    "        log_likelihood_1, log_likelihood_2, log_likelihood_3],\n",
    "    population_model=population_model\n",
    ")"
   ]
  },
  {
   "cell_type": "code",
   "execution_count": 34,
   "metadata": {},
   "outputs": [
    {
     "data": {
      "text/plain": [
       "['central.size',\n",
       " 'myokit.baseline_inr',\n",
       " 'myokit.clearance',\n",
       " 'myokit.half_maximal_effect_concentration',\n",
       " 'myokit.transition_rate_chain_1',\n",
       " 'myokit.transition_rate_chain_2',\n",
       " 'central.size',\n",
       " 'myokit.baseline_inr',\n",
       " 'myokit.clearance',\n",
       " 'myokit.half_maximal_effect_concentration',\n",
       " 'myokit.transition_rate_chain_1',\n",
       " 'myokit.transition_rate_chain_2',\n",
       " 'central.size',\n",
       " 'myokit.baseline_inr',\n",
       " 'myokit.clearance',\n",
       " 'myokit.half_maximal_effect_concentration',\n",
       " 'myokit.transition_rate_chain_1',\n",
       " 'myokit.transition_rate_chain_2',\n",
       " 'Mean Dim. 1',\n",
       " 'Mean Dim. 2',\n",
       " 'Mean Dim. 3',\n",
       " 'Mean Dim. 4',\n",
       " 'Mean Dim. 5',\n",
       " 'Mean Dim. 6',\n",
       " 'Std. Dim. 1',\n",
       " 'Std. Dim. 2',\n",
       " 'Std. Dim. 3',\n",
       " 'Std. Dim. 4',\n",
       " 'Std. Dim. 5',\n",
       " 'Std. Dim. 6',\n",
       " 'Pooled Dim. 1']"
      ]
     },
     "execution_count": 34,
     "metadata": {},
     "output_type": "execute_result"
    }
   ],
   "source": [
    "log_likelihood.get_parameter_names()"
   ]
  },
  {
   "cell_type": "code",
   "execution_count": 35,
   "metadata": {},
   "outputs": [],
   "source": [
    "import pints\n",
    "\n",
    "# Define prior distribution\n",
    "log_prior = pints.ComposedLogPrior(\n",
    "    pints.GaussianLogPrior(mean=1, sd=1),\n",
    "    pints.GaussianLogPrior(mean=1, sd=1),\n",
    "    pints.GaussianLogPrior(mean=1, sd=1),\n",
    "    pints.GaussianLogPrior(mean=1, sd=1),\n",
    "    pints.GaussianLogPrior(mean=1, sd=1),\n",
    "    pints.GaussianLogPrior(mean=1, sd=1),\n",
    "    pints.GaussianLogPrior(mean=1, sd=1),\n",
    "    pints.GaussianLogPrior(mean=1, sd=1),\n",
    "    pints.GaussianLogPrior(mean=1, sd=1),\n",
    "    pints.GaussianLogPrior(mean=1, sd=1),\n",
    "    pints.GaussianLogPrior(mean=1, sd=1),\n",
    "    pints.GaussianLogPrior(mean=1, sd=1),\n",
    "    pints.GaussianLogPrior(mean=1, sd=1)\n",
    ")\n",
    "\n",
    "# Define hierarchical log-posterior\n",
    "log_posterior = chi.HierarchicalLogPosterior(\n",
    "    log_likelihood=log_likelihood,\n",
    "    log_prior=log_prior\n",
    ")"
   ]
  },
  {
   "cell_type": "code",
   "execution_count": 37,
   "metadata": {},
   "outputs": [
    {
     "data": {
      "text/plain": [
       "['Mean Dim. 1',\n",
       " 'Mean Dim. 2',\n",
       " 'Mean Dim. 3',\n",
       " 'Mean Dim. 4',\n",
       " 'Mean Dim. 5',\n",
       " 'Mean Dim. 6',\n",
       " 'Std. Dim. 1',\n",
       " 'Std. Dim. 2',\n",
       " 'Std. Dim. 3',\n",
       " 'Std. Dim. 4',\n",
       " 'Std. Dim. 5',\n",
       " 'Std. Dim. 6',\n",
       " 'Pooled Dim. 1']"
      ]
     },
     "execution_count": 37,
     "metadata": {},
     "output_type": "execute_result"
    }
   ],
   "source": [
    "log_posterior.get_parameter_names(True)"
   ]
  },
  {
   "cell_type": "code",
   "execution_count": null,
   "metadata": {},
   "outputs": [],
   "source": []
  }
 ],
 "metadata": {
  "kernelspec": {
   "display_name": "venv",
   "language": "python",
   "name": "python3"
  },
  "language_info": {
   "codemirror_mode": {
    "name": "ipython",
    "version": 3
   },
   "file_extension": ".py",
   "mimetype": "text/x-python",
   "name": "python",
   "nbconvert_exporter": "python",
   "pygments_lexer": "ipython3",
   "version": "3.9.6"
  }
 },
 "nbformat": 4,
 "nbformat_minor": 2
}
